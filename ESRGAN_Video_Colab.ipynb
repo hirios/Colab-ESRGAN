{
  "nbformat": 4,
  "nbformat_minor": 0,
  "metadata": {
    "colab": {
      "name": "Cópia de Colab-ESRGAN-(new&old-arch).ipynb",
      "private_outputs": true,
      "provenance": [],
      "collapsed_sections": []
    },
    "kernelspec": {
      "name": "python3",
      "display_name": "Python 3"
    },
    "accelerator": "GPU"
  },
  "cells": [
    {
      "cell_type": "code",
      "metadata": {
        "id": "7wPj3OqiHkd3",
        "cellView": "form"
      },
      "source": [
        "#@title Rode essa cédula para montar o seu Drive.\n",
        "from google.colab import drive\n",
        "drive.mount('/content/drive')\n",
        "print('Google Drive connected.')"
      ],
      "execution_count": null,
      "outputs": []
    },
    {
      "cell_type": "code",
      "metadata": {
        "id": "k1ACFjBbrwz0",
        "cellView": "form"
      },
      "source": [
        "#@title Rode essa cédula para baixar o ESRGAN diretamente em seu Google Drive. (Se você ainda não tiver)\n",
        "\n",
        "%cd \"/content/drive/My Drive\"\n",
        "!git clone https://github.com/styler00dollar/Colab-ESRGAN.git\n",
        "!mkdir \"/content/drive/My Drive/Colab-ESRGAN/input/\"\n",
        "!mkdir \"/content/drive/My Drive/Colab-ESRGAN/output/\"\n",
        "!mkdir \"/content/drive/My Drive/Colab-ESRGAN/models/\"\n",
        "%cd \"/content/drive/My Drive/Colab-ESRGAN\""
      ],
      "execution_count": null,
      "outputs": []
    },
    {
      "cell_type": "markdown",
      "metadata": {
        "id": "i_XJiZRbL5uI"
      },
      "source": [
        "### A seguir você poderá baixar alguns modelos de Upscale diretamente para a pasta \"/content/drive/My Drive/Colab-ESRGAN/models\" em seu Google Drive. Existem vários outros modelos que você pode encontrar pela internet. Se preferir, coloque o modelo manualmente a partir do seu Google Drive. "
      ]
    },
    {
      "cell_type": "code",
      "metadata": {
        "id": "Zj2N-IHX67Ln",
        "cellView": "form"
      },
      "source": [
        "#@title Download ESRGANx4 and PSNRx4\n",
        "%cd \"/content/drive/My Drive/Colab-ESRGAN\"\n",
        "!wget --no-check-certificate 'https://docs.google.com/uc?export=download&id=1MJFgqXJrMkPdKtiuy7C6xfsU1QIbXEb-' -O models/RRDB_ESRGAN_x4.pth\n",
        "!wget --no-check-certificate 'https://docs.google.com/uc?export=download&id=1mSJ6Z40weL-dnPvi390xDd3uZBCFMeqr' -O models/RRDB_PSNR_x4.pth"
      ],
      "execution_count": null,
      "outputs": []
    },
    {
      "cell_type": "code",
      "metadata": {
        "id": "ZjtcywTW0dKy",
        "cellView": "form"
      },
      "source": [
        "#@title Downlaod fatal_anime (Model by twittman)\n",
        "%cd \"/content/drive/My Drive/Colab-ESRGAN\"\n",
        "!wget --no-check-certificate \"https://de-next.owncube.com/index.php/s/x99pKzS7TNaErrC/download\" -O models/4x_fatal_Anime_500000_G.pth"
      ],
      "execution_count": null,
      "outputs": []
    },
    {
      "cell_type": "code",
      "metadata": {
        "id": "Irj6v_VBrEAW",
        "cellView": "form"
      },
      "source": [
        "#@title Downlaod fatal_pixels (Model by twittman)\n",
        "%cd \"/content/drive/My Drive/Colab-ESRGAN\"\n",
        "!wget --no-check-certificate \"https://de-next.owncube.com/index.php/s/mDGmi7NgdyyQRXL/download?path=%2F&files=4x_FatalPixels_340000_G.pth&downloadStartSecret=r4q3aw60ijm\" -O models/4x_FatalPixels_340000_G.pth"
      ],
      "execution_count": null,
      "outputs": []
    },
    {
      "cell_type": "code",
      "metadata": {
        "id": "W-M2MOEeEw9R",
        "cellView": "form"
      },
      "source": [
        "#@title Download deJpeg_Fatality_PlusULTRA (Model by twittman)\n",
        "%cd \"/content/drive/My Drive/Colab-ESRGAN\"\n",
        "!wget --no-check-certificate \"https://de-next.owncube.com/index.php/s/w82HLrLWmWi4SQ5/download\" -O models/1x_DeJpeg_Fatality_PlusULTRA_200000_G.pth"
      ],
      "execution_count": null,
      "outputs": []
    },
    {
      "cell_type": "markdown",
      "metadata": {
        "id": "APJmRf1PJ63q"
      },
      "source": [
        "\n",
        "Modelos disponíveis (se você fez o download de todos):\n",
        "- RRDB_ESRGAN_x4.pth (old-arch)\n",
        "- RRDB_PSNR_x4.pth (old-arch)\n",
        "- 4x_FatalPixels_340000_G.pth\n",
        "- 4x_fatal_Anime_500000_G.pth\n",
        "- 1x_DeJpeg_Fatality_PlusULTRA_200000_G.pth"
      ]
    },
    {
      "cell_type": "code",
      "metadata": {
        "id": "6okSyPJ-J1Jy",
        "cellView": "form"
      },
      "source": [
        "#@title Seleciona o vídeo e captura taxa de FPS\n",
        "import os\n",
        "\n",
        "\n",
        "caminho = \"/content/drive/My Drive/\"\n",
        "diretorio = os.listdir(caminho)\n",
        "indice = 1\n",
        "\n",
        "for item in diretorio:\n",
        "  print([indice], item)\n",
        "  indice += 1\n",
        "    \n",
        "print()\n",
        "novoindice = int(input(\"\\nSelecione o seu arquivo: \")) - 1\n",
        "fps = !ffmpeg -i \"{caminho}{diretorio[novoindice]}\"\n",
        "fps = [x for x in str(fps).split(\",\") if \"fps\" in x][0].split()[0]\n",
        "!rm \"fps.txt\" 2>/dev/null"
      ],
      "execution_count": null,
      "outputs": []
    },
    {
      "cell_type": "code",
      "metadata": {
        "cellView": "form",
        "id": "rIyW2Xo0JUmz"
      },
      "source": [
        "#@title Cédula para extrair o áudio do vídeo\n",
        "print(\"Extraindo audio ...\")\n",
        "!ffmpeg -i \"{caminho}{diretorio[novoindice]}\" -vn -acodec copy /content/audio.aac 2>/dev/null\n",
        "size = !du -sh /content/audio.aac  2>/dev/null\n",
        "if size[0].split()[0] == '0':\n",
        "  !rm /content/audio.aac\n",
        "  !ffmpeg -i  \"{caminho}{diretorio[novoindice]}\" -vn -ac 2 -ar 44100 -ab 320k -f mp3 /content/audio.aac  2>/dev/null\n",
        "print('Concluído...')"
      ],
      "execution_count": null,
      "outputs": []
    },
    {
      "cell_type": "code",
      "metadata": {
        "id": "5lygrrL4NPfe",
        "cellView": "form"
      },
      "source": [
        "#@title Extrai frames do vídeo\n",
        "print(\"Extraindo frames do seu vídeo...\")\n",
        "\n",
        "%cd /content/drive/My Drive/Colab-ESRGAN/input \n",
        "!ffmpeg -i \"{caminho}{diretorio[novoindice]}\" %d.png 2>/dev/null"
      ],
      "execution_count": null,
      "outputs": []
    },
    {
      "cell_type": "code",
      "metadata": {
        "id": "4d0fQBqXNlBQ",
        "cellView": "form"
      },
      "source": [
        "#@title Instala a dependência \"tqdm\" e entra na pasta do ESRGAN em seu Drive\n",
        "!pip install tqdm\n",
        "%cd \"/content/drive/My Drive/Colab-ESRGAN\""
      ],
      "execution_count": null,
      "outputs": []
    },
    {
      "cell_type": "code",
      "metadata": {
        "id": "LJ1bmwhIFEye"
      },
      "source": [
        "# COMBINANDO MODELOS\n",
        "!python main.py input output --device cuda --prefilter models/1x_Fatality_DeBlur_270000_G.pth --model models/4x_DigitalFrames_2.1_Aggressive.pth "
      ],
      "execution_count": null,
      "outputs": []
    },
    {
      "cell_type": "code",
      "metadata": {
        "id": "gdlVu92jbnUp"
      },
      "source": [
        "# EXEMPLO DE USO COM APENAS UM MODELO; Manga109Attempt\n",
        "!python main.py input/ output/ --device cuda --model models/Manga109Attempt.pth"
      ],
      "execution_count": null,
      "outputs": []
    },
    {
      "cell_type": "code",
      "metadata": {
        "id": "P331xaYjss1w"
      },
      "source": [
        "# EXEMPLO DE USO COM APENAS UM MODELO; 1x_DeJpeg_Fatality_PlusULTRA_200000_G.pth\n",
        "!python main.py input/ output/ --device cuda --model models/1x_DeJpeg_Fatality_PlusULTRA_200000_G.pth"
      ],
      "execution_count": null,
      "outputs": []
    },
    {
      "cell_type": "code",
      "metadata": {
        "id": "9eYb-XSPBqQ5"
      },
      "source": [
        "# INTERPOLANDO\n",
        "!python main.py input output --device cuda --model models/RRDB_PSNR_x4.pth:70:models/RRDB_ESRGAN_x4.pth:70"
      ],
      "execution_count": null,
      "outputs": []
    },
    {
      "cell_type": "code",
      "metadata": {
        "id": "Z14u4E7p9rRp"
      },
      "source": [
        "# example for model interpolation\n",
        "# recommended tilesize for 16GB and an interpolated 4x model: --tilesize 2000\n",
        "!python main.py input/ output/ --device cuda --model models/4x_FatalPixels_340000_G.pth:25:models/4x_fatal_Anime_500000_G.pth:75"
      ],
      "execution_count": null,
      "outputs": []
    },
    {
      "cell_type": "markdown",
      "metadata": {
        "id": "iXHjRp86ABfc"
      },
      "source": [
        "**ESSA CÉDULA SERVE PARA GERAR O VÍDEO. VOCÊ DEVE POR O NOME DO MODELO ANTES. POR PADRÃO EU DEIXEI O 1x_DeJpeg_Fatality_PlusULTRA_200000_G.**\n",
        "\n"
      ]
    },
    {
      "cell_type": "code",
      "metadata": {
        "id": "ApWPbMWcAAF4"
      },
      "source": [
        "!ffmpeg -f image2 -r  {fps} -i output/1x_DeJpeg_Fatality_PlusULTRA_200000_G/%d.png -i /content/audio.aac \"/content/drive/My Drive/{diretorio[novoindice][0:-4]}_upscale.mkv\" "
      ],
      "execution_count": null,
      "outputs": []
    },
    {
      "cell_type": "markdown",
      "metadata": {
        "id": "wL2GQd80L8O6"
      },
      "source": [
        "### Essa ultima cédulas você poderá usar caso queira que todas as imagens em ```/output``` reduzam a 50% da sua resolução\n",
        "\n",
        "\n"
      ]
    },
    {
      "cell_type": "code",
      "metadata": {
        "cellView": "form",
        "id": "OfijbkiyFX4v"
      },
      "source": [
        "#@title Reduzir imagens do /output a 50%\n",
        "!apt-get install imagemagick\n",
        "!find \"/content/drive/My Drive/Colab-ESRGAN/output\" -name '*.png' -exec mogrify -resize 50% {} +"
      ],
      "execution_count": null,
      "outputs": []
    }
  ]
}
